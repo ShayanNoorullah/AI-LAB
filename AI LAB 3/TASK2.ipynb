{
 "cells": [
  {
   "cell_type": "code",
   "execution_count": 12,
   "id": "9eee1785-46d5-413b-a47c-6acb286be2a6",
   "metadata": {},
   "outputs": [
    {
     "name": "stdout",
     "output_type": "stream",
     "text": [
      "Cost of Shortest path is 80\n",
      "The Shortest path is [0, 1, 3, 2, 0]\n"
     ]
    }
   ],
   "source": [
    "class Task2TSP:\n",
    "    def __init__(self, distance_matrix):\n",
    "        self.distance_matrix = distance_matrix\n",
    "        self.num_cities = len(distance_matrix)\n",
    "        self.mincost = {}\n",
    "        self.path_cache = {}\n",
    "\n",
    "    def findSPC(self, visited_cities_mask, current_city):\n",
    "        if visited_cities_mask == (1 << self.num_cities) - 1:\n",
    "            return self.distance_matrix[current_city][0]\n",
    "\n",
    "        if (visited_cities_mask, current_city) in self.mincost:\n",
    "            return self.mincost[(visited_cities_mask, current_city)]\n",
    "\n",
    "        minimum = float('inf')\n",
    "        best_path = None\n",
    "\n",
    "        for next_city in range(self.num_cities):\n",
    "            if visited_cities_mask & (1 << next_city):\n",
    "                continue\n",
    "            new_visited_cities_mask = visited_cities_mask | (1 << next_city)\n",
    "            new_cost = self.distance_matrix[current_city][next_city] + self.findSPC(new_visited_cities_mask, next_city)\n",
    "\n",
    "            if new_cost < minimum:\n",
    "                minimum = new_cost\n",
    "                best_path = next_city\n",
    "\n",
    "        self.mincost[(visited_cities_mask, current_city)] = minimum\n",
    "        self.path_cache[(visited_cities_mask, current_city)] = best_path\n",
    "        return minimum\n",
    "\n",
    "    def findSP(self):\n",
    "        initial_visited_mask = 1\n",
    "        min_cost = self.findSPC(initial_visited_mask, 0)\n",
    "        path = self.reconstruct_path(initial_visited_mask, 0)\n",
    "        return min_cost, path\n",
    "\n",
    "    def reconstruct_path(self, visited_cities_mask, current_city):\n",
    "        path = [current_city]\n",
    "        while visited_cities_mask != (1 << self.num_cities) - 1:\n",
    "            next_city = self.path_cache[(visited_cities_mask, current_city)]\n",
    "            path.append(next_city)\n",
    "            visited_cities_mask |= (1 << next_city)\n",
    "            current_city = next_city\n",
    "        path.append(0)\n",
    "        return path\n",
    "\n",
    "\n",
    "distance_matrix = [\n",
    "    [0, 10, 15, 20],\n",
    "    [10, 0, 35, 25],\n",
    "    [15, 35, 0, 30],\n",
    "    [20, 25, 30, 0],\n",
    "]\n",
    "\n",
    "result = Task2TSP(distance_matrix)\n",
    "SPC, route = result.findSP()\n",
    "print(f\"Cost of Shortest path is {SPC}\")\n",
    "print(f\"The Shortest path is {route}\")"
   ]
  }
 ],
 "metadata": {
  "kernelspec": {
   "display_name": "Python 3 (ipykernel)",
   "language": "python",
   "name": "python3"
  },
  "language_info": {
   "codemirror_mode": {
    "name": "ipython",
    "version": 3
   },
   "file_extension": ".py",
   "mimetype": "text/x-python",
   "name": "python",
   "nbconvert_exporter": "python",
   "pygments_lexer": "ipython3",
   "version": "3.11.7"
  }
 },
 "nbformat": 4,
 "nbformat_minor": 5
}

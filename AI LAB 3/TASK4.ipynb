{
 "cells": [
  {
   "cell_type": "code",
   "execution_count": 10,
   "id": "36bf90ac-ec13-4c04-8844-2d115371a958",
   "metadata": {},
   "outputs": [
    {
     "name": "stdout",
     "output_type": "stream",
     "text": [
      "BFS Traversal from (0, 0) to (4, 4):\n",
      "Path found: [(0, 0), (0, 1), (1, 1), (2, 1), (2, 2), (3, 2), (3, 3), (3, 4), (4, 4)]\n"
     ]
    }
   ],
   "source": [
    "class Environment:\n",
    "    def __init__(self, grid):\n",
    "        self.grid = grid\n",
    "        self.rows = len(grid)\n",
    "        self.cols = len(grid[0])\n",
    "    \n",
    "    def get_neighbors(self, node):\n",
    "        row, col = node\n",
    "        neighbors = []\n",
    "        if row > 0 and self.grid[row - 1][col] != 1:\n",
    "            neighbors.append((row - 1, col))\n",
    "        if row < self.rows - 1 and self.grid[row + 1][col] != 1:\n",
    "            neighbors.append((row + 1, col))\n",
    "        if col > 0 and self.grid[row][col - 1] != 1:\n",
    "            neighbors.append((row, col - 1))\n",
    "        if col < self.cols - 1 and self.grid[row][col + 1] != 1:\n",
    "            neighbors.append((row, col + 1))\n",
    "\n",
    "        return neighbors\n",
    "\n",
    "    def visit(self, node):\n",
    "        print(f\"VISITING NODE {node}\")\n",
    "\n",
    "\n",
    "\n",
    "class Agent:\n",
    "    def __init__(self, start_node):\n",
    "        self.position = start_node\n",
    "\n",
    "def bfs(agent, environment, start_node, goal_node):\n",
    "    queue = [(start_node, [start_node])]\n",
    "    visited = set()\n",
    "    visited.add(start_node)\n",
    "\n",
    "    while queue:\n",
    "        current_node, path = queue.pop(0)\n",
    "        if current_node == goal_node:\n",
    "            return path\n",
    "        neighbors = environment.get_neighbors(current_node)\n",
    "        for neighbor in neighbors:\n",
    "            if neighbor not in visited:\n",
    "                visited.add(neighbor)\n",
    "                queue.append((neighbor, path + [neighbor]))\n",
    "    return None\n",
    "\n",
    "\n",
    "\n",
    "\n",
    "grid = [\n",
    "    [0, 0, 1, 0, 0, 0],\n",
    "    [1, 0, 1, 1, 0, 0],\n",
    "    [1, 0, 0, 1, 0, 1],\n",
    "    [0, 1, 0, 0, 0, 0],\n",
    "    [0, 0, 1, 1, 0, 1],\n",
    "    [0, 0, 0, 1, 0, 0]\n",
    "]\n",
    "\n",
    "\n",
    "start_node = (0, 0)\n",
    "goal_node = (4, 4)\n",
    "environment = Environment(grid)\n",
    "agent = Agent(start_node)\n",
    "print(f\"BFS Traversal from {start_node} to {goal_node}:\")\n",
    "path = bfs(agent, environment, start_node, goal_node)\n",
    "if path:\n",
    "    print(\"Path found:\", path)\n",
    "else:\n",
    "    print(\"No path found.\")\n"
   ]
  }
 ],
 "metadata": {
  "kernelspec": {
   "display_name": "Python 3 (ipykernel)",
   "language": "python",
   "name": "python3"
  },
  "language_info": {
   "codemirror_mode": {
    "name": "ipython",
    "version": 3
   },
   "file_extension": ".py",
   "mimetype": "text/x-python",
   "name": "python",
   "nbconvert_exporter": "python",
   "pygments_lexer": "ipython3",
   "version": "3.11.7"
  }
 },
 "nbformat": 4,
 "nbformat_minor": 5
}
